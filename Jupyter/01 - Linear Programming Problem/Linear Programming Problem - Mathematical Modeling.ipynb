{
 "cells": [
  {
   "cell_type": "markdown",
   "metadata": {},
   "source": [
    "# Mathematical Modeling Approach"
   ]
  },
  {
   "cell_type": "markdown",
   "metadata": {},
   "source": [
    "<ol>\n",
    "<li>Define business task (collect the requirements)</li>\n",
    "<li>Preliminary analysis</li>\n",
    "<li>Build math model</li>\n",
    "<li>Resolve the task</li>\n",
    "<li>Analyze the received results</li>\n",
    "</ol>"
   ]
  },
  {
   "cell_type": "markdown",
   "metadata": {},
   "source": [
    "# Task 1: Team Composition"
   ]
  },
  {
   "cell_type": "markdown",
   "metadata": {},
   "source": [
    "## Business Task"
   ]
  },
  {
   "cell_type": "markdown",
   "metadata": {},
   "source": [
    "A software company is starting a new project. The estimated total development efforts equal **735 man/days** (for developers of level Middle). Taking into account the project deadline agreed with the client, maximum duration of the development phase is 5 months, or 5 * 21 = **105 working days**.\n",
    "\n",
    "It is required to build a team of software developers with **minimal monthly cost**.\n",
    "\n",
    "Average monthly rates for developers depending of their qualification levels are the following:<br>"
   ]
  },
  {
   "cell_type": "markdown",
   "metadata": {},
   "source": [
    "|Level|Monthly Rate|\n",
    "|-----|-------|\n",
    "|Senior|2320 EUR|\n",
    "|Middle|1370 EUR|\n",
    "|Junior|300 EUR|"
   ]
  },
  {
   "cell_type": "markdown",
   "metadata": {},
   "source": [
    "According to best management practices, the team should include **at least 1 senior developer** (who will be a technical leader of the team) and **2 middle engineers**. Also, due to dependencies between projects tasks (that limits the possiblity of parallelization of work among the team members), maximum recommend size of the team is **10 developers**. Additionally, the company policies allow part-time involvment of senior and middle developers, but the policies prohibit part-time involvment of juniors."
   ]
  },
  {
   "cell_type": "markdown",
   "metadata": {},
   "source": [
    "From previous projects, it is known that an average senior developer implement the same task 30% faster than a middle engineer, and a junior developer performs 60% slower then a middle. So, if a middle engineer spends 10 days to implement a task, a senior would work 7 days on the same task, and a junior would need 16 days."
   ]
  },
  {
   "cell_type": "markdown",
   "metadata": {},
   "source": [
    "Currently, the availability of engineers is as follows:"
   ]
  },
  {
   "cell_type": "markdown",
   "metadata": {},
   "source": [
    "|Level|Developers|\n",
    "|-----|-------|\n",
    "|Senior|2.5|\n",
    "|Middle|4|\n",
    "|Junior|11|"
   ]
  },
  {
   "cell_type": "markdown",
   "metadata": {},
   "source": [
    "## Preliminary Analysis"
   ]
  },
  {
   "cell_type": "markdown",
   "metadata": {},
   "source": [
    "As can be seen from the estimate and duration, we need a team of 7 middle developers to imlement the whole project:\n",
    "<br>\n",
    "<br>\n",
    "$$\n",
    "\\frac{Estimate}{Duration} = \\frac{735}{105} = 7.\n",
    "$$\n",
    "<br>\n",
    "<br>\n",
    "*Remark: team composition of 7 middle developers is not allowed due to the company policy that requires involvment at least 1 senior engineer.*"
   ]
  },
  {
   "cell_type": "markdown",
   "metadata": {},
   "source": [
    "Since senior engineers performs 30% faster than middles, to implement the project we need 5 senior engineers:\n",
    "<br>\n",
    "<br>\n",
    "$$\n",
    "\\frac{Estimate \\cdot 0.7}{Duration} = \\frac{735 \\cdot 0.7}{105} = \\frac{514.5}{105} = 4.9 \\approx 5.\n",
    "$$\n",
    "<br>\n",
    "<br>\n",
    "Let $q_1 = 0.7$ be a performance coeficient of a senior developer. So, 1 senior developer performs like $\\frac{1}{q_1} = \\frac{1}{0.7} \\approx 1.43$ middle developer."
   ]
  },
  {
   "cell_type": "markdown",
   "metadata": {},
   "source": [
    "Similarly for junior developers. Taking into account that juniors perform 60% slower than middle developers, it is necessary 12 junior developers:\n",
    "<br>\n",
    "<br>\n",
    "$$\n",
    "\\frac{Estimate \\cdot 1.6}{Duration} = \\frac{735 \\cdot 1.6}{105} = \\frac{1176}{105} = 11.2 \\approx 12.\n",
    "$$\n",
    "<br>\n",
    "<br>\n",
    "Let $q_3 = 1.6$ be a performance coeficient of a junior developer. So, 1 junior developer performs like $\\frac{1}{q_3} = \\frac{1}{1.6} \\approx 0.625$ middle developer."
   ]
  },
  {
   "cell_type": "markdown",
   "metadata": {},
   "source": [
    "Let's analyse the edge-case scenarios when the team is staffed with engineers of the same level:"
   ]
  },
  {
   "cell_type": "markdown",
   "metadata": {},
   "source": [
    "|Level|Performance Coeficient|Developers|Monthly Cost, EUR|Comment|\n",
    "|-----|:-------|:-------:|-------------------------:|:------|\n",
    "|Senior|$q_1 = 0.7$|5|$5 \\cdot 2320 = 11600$| |\n",
    "|Middle|$q_2 = 1$|7|$7 \\cdot 1370 = 9590$| |\n",
    "|Junior|$q_3 = 1.6$|12|$12 \\cdot 300 = 3600$| |"
   ]
  },
  {
   "cell_type": "markdown",
   "metadata": {},
   "source": [
    "## Building Mathematical Model"
   ]
  },
  {
   "cell_type": "markdown",
   "metadata": {},
   "source": [
    "Let $x_1$, $x_2$, $x_3$ are numbers of senior, middle, and junior developers correspondingly. And, let $C(X)$ is the monthly cost of the development team composed of $X=(x_1, x_2, x_3)$ engineers. Then, we receive the following objective function:"
   ]
  },
  {
   "cell_type": "markdown",
   "metadata": {},
   "source": [
    "$$\n",
    "C(X) = 2320 \\cdot x_1 + 1370 \\cdot x_2 + 300 \\cdot x_3 \\rightarrow \\min_{X \\in G},\n",
    "$$"
   ]
  },
  {
   "cell_type": "markdown",
   "metadata": {},
   "source": [
    "where $G$ is the feasibility region defined by the conditions of the business task."
   ]
  },
  {
   "cell_type": "markdown",
   "metadata": {},
   "source": [
    "Considering availability of the resources, we have the following constrains:"
   ]
  },
  {
   "cell_type": "markdown",
   "metadata": {},
   "source": [
    "$$\n",
    "x_1 \\leqslant 2.5, \\\\\n",
    "x_2 \\leqslant 4,   \\\\\n",
    "x_3 \\leqslant 11.  \\\\\n",
    "$$"
   ]
  },
  {
   "cell_type": "markdown",
   "metadata": {},
   "source": [
    "The requirement that the team should include at least 1 senior and 2 middle developers corresponds the inequalities:"
   ]
  },
  {
   "cell_type": "markdown",
   "metadata": {},
   "source": [
    "$$\n",
    "x_1 \\geqslant 1, \\\\\n",
    "x_2 \\geqslant 2.\n",
    "$$"
   ]
  },
  {
   "cell_type": "markdown",
   "metadata": {},
   "source": [
    "According to the restrictions on the team size, we receive the condition:"
   ]
  },
  {
   "cell_type": "markdown",
   "metadata": {},
   "source": [
    "$$\n",
    "x_1 + x_2 + x_3 \\leqslant 10.\n",
    "$$"
   ]
  },
  {
   "cell_type": "markdown",
   "metadata": {},
   "source": [
    "To make sure that the team is going to meet the deadline, we need to restrict amount of spent development efforts:"
   ]
  },
  {
   "cell_type": "markdown",
   "metadata": {},
   "source": [
    "$$\n",
    "\\frac{Estimate}{\\frac{x_1}{q_1} + \\frac{x_2}{q_2} + \\frac{x_3}{q_3}} \\leqslant Duration, \\\\\n",
    "\\frac{735}{\\frac{x_1}{0.7} + \\frac{x_2}{1} + \\frac{x_3}{1.6}} \\leqslant 105, \\\\\n",
    "$$\n",
    "or\n",
    "$$\n",
    "\\frac{735}{105} \\leqslant \\frac{1}{0.7}x_1 + x_2 + \\frac{1}{1.6}x_3,\n",
    "$$\n",
    "finally, we receive a liner constraint:\n",
    "$$\n",
    "\\frac{1}{0.7}x_1 + x_2 + \\frac{1}{1.6}x_3 \\geqslant 7.\n",
    "$$"
   ]
  },
  {
   "cell_type": "markdown",
   "metadata": {},
   "source": [
    "As the result, we have the following linear programming problem:"
   ]
  },
  {
   "cell_type": "markdown",
   "metadata": {},
   "source": [
    "$$\n",
    "C(X) = 2320 \\cdot x_1 + 1370 \\cdot x_2 + 300 \\cdot x_3 \\rightarrow \\min_{X \\in G}, \\tag{1}\n",
    "$$"
   ]
  },
  {
   "cell_type": "markdown",
   "metadata": {},
   "source": [
    "where the feasible region $G$ is defined by the constraints:"
   ]
  },
  {
   "cell_type": "markdown",
   "metadata": {},
   "source": [
    "$$\n",
    "\\begin{cases}\n",
    "x_1 \\leqslant 2.5,                                      \\\\\n",
    "x_2 \\leqslant 4,                                        \\\\\n",
    "x_3 \\leqslant 11,                                       \\\\\n",
    "x_1 \\geqslant 1,                                        \\\\\n",
    "x_2 \\geqslant 2,                                        \\\\\n",
    "x_1 + x_2 + x_3 \\leqslant 10,                           \\\\\n",
    "\\frac{1}{0.7}x_1 + x_2 + \\frac{1}{1.6}x_3 \\geqslant 7,  \\\\\n",
    "x_1 \\geqslant 0, \\, x_2 \\geqslant 0, x_3 \\geqslant 0.\n",
    "\\end{cases}\n",
    "\\tag{2}\n",
    "$$"
   ]
  },
  {
   "cell_type": "markdown",
   "metadata": {},
   "source": [
    "Let's write the received LPP in the standard form:"
   ]
  },
  {
   "cell_type": "markdown",
   "metadata": {},
   "source": [
    "$$\n",
    "C(X) = -2320 \\cdot x_1 - 1370 \\cdot x_2 - 300 \\cdot x_3 \\rightarrow \\max_{X \\in G}, \\tag{3}\n",
    "$$\n",
    "\n",
    "$$\n",
    "\\begin{cases}\n",
    "x_1 \\leqslant 2.5,                                       \\\\\n",
    "x_2 \\leqslant 4,                                         \\\\\n",
    "x_3 \\leqslant 11,                                        \\\\\n",
    "-x_1 \\leqslant -1,                                       \\\\\n",
    "-x_2 \\leqslant -2,                                       \\\\\n",
    "x_1 + x_2 + x_3 \\leqslant 10,                            \\\\\n",
    "-\\frac{1}{0.7}x_1 - x_2 - \\frac{1}{1.6}x_3 \\leqslant -7,  \\\\\n",
    "x_1 \\geqslant 0, \\, x_2 \\geqslant 0, x_3 \\geqslant 0.\n",
    "\\end{cases}\n",
    "\\tag{4}\n",
    "$$"
   ]
  },
  {
   "cell_type": "markdown",
   "metadata": {},
   "source": [
    "Now, we convert LPP (3),(4) into the canonical form by adding slack variables:"
   ]
  },
  {
   "cell_type": "markdown",
   "metadata": {},
   "source": [
    "$$\n",
    "\\begin{cases}\n",
    "\\begin{matrix}\n",
    "x_1               &   &          &   &                  & + & s_1 & = & 2.5, \\\\\n",
    "                  &   & x_2      &   &                  & + & s_2 & = & 4,   \\\\\n",
    "                  &   &          &   & x_3              & + & s_3 & = & 11,  \\\\\n",
    "-x_1              &   &          &   &                  & + & s_4 & = & -1,  \\\\\n",
    "                  & - & x_2      &   &                  & + & s_5 & = & -2,   \\\\\n",
    "x_1               & + & x_2      & + & x_3              & + & s_6 & = & 10,  \\\\    \n",
    "-\\frac{1}{0.7}x_1 & - & x_2      & - & \\frac{1}{1.6}x_3 & + & s_7 & = & -7,  \\\\\n",
    "2320 x_1          & + & 1370 x_2 & + & 300 x_3          & + & f   & = & 0.\n",
    "\\end{matrix}\n",
    "\\end{cases}\n",
    "\\tag{5}\n",
    "$$"
   ]
  },
  {
   "cell_type": "markdown",
   "metadata": {},
   "source": [
    "where all the decision variables and the slack variables are non-negative:"
   ]
  },
  {
   "cell_type": "markdown",
   "metadata": {},
   "source": [
    "$$x_j \\geqslant 0, \\, j=\\overline{1,3}; \\, s_k \\geqslant 0, \\, k=\\overline{1,7}.$$"
   ]
  },
  {
   "cell_type": "markdown",
   "metadata": {},
   "source": [
    "## Solution with Python linprog()"
   ]
  },
  {
   "cell_type": "markdown",
   "metadata": {},
   "source": [
    "For the first place, let's find a solution of LPP (1),(4) using Python `linprog()` function:"
   ]
  },
  {
   "cell_type": "code",
   "execution_count": 6,
   "metadata": {},
   "outputs": [
    {
     "name": "stdout",
     "output_type": "stream",
     "text": [
      "x1 =  1.0\n",
      "x2 =  2.0\n",
      "x3 =  5.714285714285714\n",
      "F(x1, x2, x3) =  6774.285714285714\n"
     ]
    }
   ],
   "source": [
    "from scipy.optimize import linprog\n",
    "\n",
    "# coeficients of the objective function\n",
    "# (since initial task statement is to maximaize the objective function,\n",
    "# it is necessary to multiply the coeficients by (-1))\n",
    "obj = [2320, 1370, 300]\n",
    "# left side coeficients of the inequity constraints\n",
    "lhs_ineq = [\n",
    "    [1, 0, 0],\n",
    "    [0, 1, 0],\n",
    "    [0, 0, 1],    \n",
    "    [-1, 0, 0],    \n",
    "    [0, -1, 0],    \n",
    "    [1, 1, 1],    \n",
    "    [-1/0.7, -1, -1/1.6]\n",
    "]\n",
    "# right sides of the inequity constraints\n",
    "rhs_ineq = [\n",
    "    2.5,\n",
    "    4,\n",
    "    11,\n",
    "    -1,\n",
    "    -2,\n",
    "    10,\n",
    "    -7\n",
    "]\n",
    "\n",
    "# minimize the objective function\n",
    "opt = linprog(c=obj, A_ub=lhs_ineq, b_ub=rhs_ineq, method=\"revised simplex\")\n",
    "\n",
    "print(\"x1 = \", opt.x[0])\n",
    "print(\"x2 = \", opt.x[1])\n",
    "print(\"x3 = \", opt.x[2])\n",
    "print(\"F(x1, x2, x3) = \", opt.fun)"
   ]
  },
  {
   "cell_type": "markdown",
   "metadata": {},
   "source": [
    "## Analysis of Results"
   ]
  },
  {
   "cell_type": "markdown",
   "metadata": {},
   "source": [
    "Team composition with optimal monthly cost consits of **9 developers** with monthly cost **6860 EUR**:"
   ]
  },
  {
   "cell_type": "markdown",
   "metadata": {},
   "source": [
    "|Level|Developers|Monthly Cost, EUR|\n",
    "|-----|:-------:|-------:|\n",
    "|Senior|1|2320.00|\n",
    "|Middle|2|2740.00|\n",
    "|Junior|6|1800.00|\n",
    "|**Total**|**9**|**6860.00**|"
   ]
  },
  {
   "cell_type": "markdown",
   "metadata": {},
   "source": [
    "# Task 2: ..."
   ]
  }
 ],
 "metadata": {
  "kernelspec": {
   "display_name": "Python 3",
   "language": "python",
   "name": "python3"
  },
  "language_info": {
   "codemirror_mode": {
    "name": "ipython",
    "version": 3
   },
   "file_extension": ".py",
   "mimetype": "text/x-python",
   "name": "python",
   "nbconvert_exporter": "python",
   "pygments_lexer": "ipython3",
   "version": "3.8.5"
  },
  "toc": {
   "base_numbering": 1,
   "nav_menu": {},
   "number_sections": true,
   "sideBar": true,
   "skip_h1_title": false,
   "title_cell": "Table of Contents",
   "title_sidebar": "Contents",
   "toc_cell": false,
   "toc_position": {
    "height": "calc(100% - 180px)",
    "left": "10px",
    "top": "150px",
    "width": "332.799px"
   },
   "toc_section_display": true,
   "toc_window_display": true
  }
 },
 "nbformat": 4,
 "nbformat_minor": 4
}
