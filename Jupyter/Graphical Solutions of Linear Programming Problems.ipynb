{
 "cells": [
  {
   "cell_type": "markdown",
   "metadata": {},
   "source": [
    "# Task Statement"
   ]
  },
  {
   "cell_type": "markdown",
   "metadata": {},
   "source": [
    "Find the minimum and maximum values (and at what points the function gets those values) of the the following **objective function**:"
   ]
  },
  {
   "cell_type": "markdown",
   "metadata": {},
   "source": [
    "$$F(x_1, x_2)=x_1+3x_2$$"
   ]
  },
  {
   "cell_type": "markdown",
   "metadata": {},
   "source": [
    "In other words\n",
    "$$F(x_1, x_2)=x_1+3x_2 \\rightarrow min$$\n",
    "$$F(x_1, x_2)=x_1+3x_2 \\rightarrow max$$"
   ]
  },
  {
   "cell_type": "markdown",
   "metadata": {},
   "source": [
    " Taking into account given constraints (so-called **feasible region**):"
   ]
  },
  {
   "cell_type": "markdown",
   "metadata": {},
   "source": [
    "$$4x_1-2x_2\\leq12,$$\n",
    "$$-x_1+3x_2\\leq6,$$\n",
    "$$2x_1+4x_2\\geq16,$$\n",
    "$$x_1\\geq0, x_2\\geq0.$$"
   ]
  },
  {
   "cell_type": "markdown",
   "metadata": {},
   "source": [
    "# Implementation Steps"
   ]
  },
  {
   "cell_type": "markdown",
   "metadata": {},
   "source": [
    "1. Visualize the fisibility area\n",
    "2. Find boundary points of the fisibility area\n",
    "3. Find direction (vector gradient) of objective function growing\n",
    "$$ grad(F) = (\\frac{\\partial F}{\\partial x_1}, \\frac{\\partial F}{\\partial x_2}) = (1, 3) $$\n",
    "4. Draw the line which ortogonal to the vector gradient \n",
    "5. Find intersection of the of the line from step 4 with the boundary points\n",
    "6. Find values of the objective function in the points found on step 5"
   ]
  },
  {
   "cell_type": "markdown",
   "metadata": {},
   "source": [
    "# Solution (Graphical Method)"
   ]
  },
  {
   "cell_type": "markdown",
   "metadata": {},
   "source": [
    "Let us visualize the feasible space (each point of the feasible space satisfies the constraints):"
   ]
  },
  {
   "cell_type": "code",
   "execution_count": 113,
   "metadata": {},
   "outputs": [
    {
     "data": {
      "image/png": "[encoded data removed]",
      "text/plain": [
       "<Figure size 432x288 with 1 Axes>"
      ]
     },
     "metadata": {
      "needs_background": "light"
     },
     "output_type": "display_data"
    },
    {
     "name": "stdout",
     "output_type": "stream",
     "text": [
      "Results:\n",
      "F(4.0, 2.0) = 10.0\n",
      "F(4.8, 3.6) = 15.6\n"
     ]
    }
   ],
   "source": [
    "import matplotlib.pyplot as plt\n",
    "import numpy as np \n",
    "from matplotlib.animation import FuncAnimation\n",
    "\n",
    "# returns x2 by x1 for the linear function l: a * x1 + b * x2 = c\n",
    "def f2(x1, l):\n",
    "    # x1 = (c - a * x1) / b\n",
    "    return (l[2] - l[0] * x1) / l[1]\n",
    "    \n",
    "    \n",
    "# Step 1: Visualize fisibility area    \n",
    "x1_1 = 2\n",
    "x1_2 = 6\n",
    "    \n",
    "plt.plot([x1_1, x1_2], [f2(x1_1, [4, -2, 12]), f2(x1_2, [4, -2, 12])], color='red', label = '4 * x1 - 2 * x2 = 12')\n",
    "plt.plot([x1_1, x1_2], [f2(x1_1, [-1, 3, 6]), f2(x1_2, [-1, 3, 6])], color='blue', label = '-x1 + 3 * x2 = 6')\n",
    "plt.plot([x1_1, x1_2], [f2(x1_1, [2, 4, 16]), f2(x1_2, [2, 4, 16])], color='green', label = '2 * x1 + 4 * x2 = 16')\n",
    "\n",
    "# Step 2: Find boundary points of the fisibility area\n",
    "# Resolve 3 systems of 2 linear equations\n",
    "A = np.linalg.solve(np.array([[4, -2], [-1, 3]]), np.array([12, 6]))\n",
    "B = np.linalg.solve(np.array([[4, -2], [2, 4]]), np.array([12, 16]))\n",
    "C = np.linalg.solve(np.array([[-1, 3], [2, 4]]), np.array([6, 16]))\n",
    "\n",
    "plt.scatter(A[0], A[1], s=50, c='cyan', label=f'A({round(A[0], 2)}, {round(A[1], 2)})')\n",
    "plt.scatter(B[0], B[1], s=50, c='indigo', label=f'B({round(B[0], 2)}, {round(B[1], 2)})')\n",
    "plt.scatter(C[0], C[1], s=50, c='orange', label=f'C({round(C[0], 2)}, {round(C[1], 2)})')\n",
    "\n",
    "plt.xlim([2, 6])\n",
    "plt.ylim([1, 8])\n",
    "\n",
    "\n",
    "#plt.grid()\n",
    "\n",
    "\n",
    "#fig = plt.figure()\n",
    "#anim = animation.FuncAnimation(fig, animate, init_func=init, frames=500, interval=20, blit=True)\n",
    "\n",
    "# Step 3: Find vector of objective function growing\n",
    "# The following line is ortogonal to vector v = (1, 3)\n",
    "\n",
    "# Step 4: Draw the line which ortogonal to the vector gradient\n",
    "C = 10\n",
    "plt.plot([x1_1, x1_2], [f2(x1_1, [1, 3, C]), f2(x1_2, [1, 3, C])], '--', color='gray', label = f'x1 + 3 * x2 = {C}')\n",
    "\n",
    "# Step 5: Find intersection of the of the line from step 4 with the boundary points\n",
    "plt.legend(loc='upper left')\n",
    "plt.show()\n",
    "\n",
    "\n",
    "# Step 6: Find values of the objective function in the points found on step 5\n",
    "def F(x):\n",
    "    return x[0] + 3 * x[1]\n",
    "\n",
    "min = F(B)\n",
    "max = F(A)\n",
    "\n",
    "print(\"Results:\")\n",
    "print(f'F({B[0]}, {B[1]}) = {round(min, 2)}')\n",
    "print(f'F({A[0]}, {A[1]}) = {round(max, 2)}')"
   ]
  }
 ],
 "metadata": {
  "kernelspec": {
   "display_name": "Python 3",
   "language": "python",
   "name": "python3"
  },
  "language_info": {
   "codemirror_mode": {
    "name": "ipython",
    "version": 3
   },
   "file_extension": ".py",
   "mimetype": "text/x-python",
   "name": "python",
   "nbconvert_exporter": "python",
   "pygments_lexer": "ipython3",
   "version": "3.8.5"
  }
 },
 "nbformat": 4,
 "nbformat_minor": 4
}
