{
 "cells": [
  {
   "cell_type": "markdown",
   "metadata": {},
   "source": [
    "# General Linear Programming Problem"
   ]
  },
  {
   "cell_type": "markdown",
   "metadata": {},
   "source": [
    "Statement of a **general linear programming problem** is to find minimum (maximum) value of the **objective function** (also called **cost function** or **goal**):"
   ]
  },
  {
   "cell_type": "markdown",
   "metadata": {},
   "source": [
    "$$\n",
    "F(X)=c_1x_1+c_2x_2+\\cdots+c_nx_n=\\sum_{j=1}^{n}{c_jx_j}\\rightarrow \\min_{X \\in G}\\,(\\max), \\tag{1} \\label{obj_func_1}\n",
    "$$"
   ]
  },
  {
   "cell_type": "markdown",
   "metadata": {},
   "source": [
    "where $G$ is a **feasible region** defined by the following **inequality constraints**:"
   ]
  },
  {
   "cell_type": "markdown",
   "metadata": {},
   "source": [
    "$$a_{i1}x_1+\\cdots+a_{in}x_n=\\sum_{j=1}^{n}{a_jx_j} \\leqslant b_i,\\,i=\\overline{1,k}, \\tag{2} \\label{constr_2}$$"
   ]
  },
  {
   "cell_type": "markdown",
   "metadata": {},
   "source": [
    "and **equality constraints**:"
   ]
  },
  {
   "cell_type": "markdown",
   "metadata": {},
   "source": [
    "$$a_{i1}x_1+\\cdots+a_{in}x_n=\\sum_{j=1}^{n}{a_jx_j} = b_i,\\,i=\\overline{k+1,m}, \\tag{3} \\label{constr_3}$$"
   ]
  },
  {
   "cell_type": "markdown",
   "metadata": {},
   "source": [
    "$$x_j \\geqslant 0, \\, j=\\overline{1,n}.  \\tag{4} \\label{constr_4}$$"
   ]
  },
  {
   "cell_type": "markdown",
   "metadata": {},
   "source": [
    "The independent variables $x_j\\,(j=\\overline{1,n})$ are called **decision variables**. The points belonging to the feasible region is called **feasible solutions**. A feasible solution (or solutions) that corresponds to the minimul (or maximum) value of the objective function is called an **optimal solution**."
   ]
  },
  {
   "cell_type": "markdown",
   "metadata": {},
   "source": [
    "# Example of a Linear Programming Problem"
   ]
  },
  {
   "cell_type": "markdown",
   "metadata": {},
   "source": [
    "Find minimun and maxim value of the following objective function:"
   ]
  },
  {
   "cell_type": "markdown",
   "metadata": {},
   "source": [
    "$$\n",
    "F(X)=1\\cdot x_1+(-1)\\cdot x_2 \\rightarrow \\begin{split} \\min \\\\ \\max \\end{split}, \\, X \\in G,\n",
    "$$"
   ]
  },
  {
   "cell_type": "markdown",
   "metadata": {},
   "source": [
    "where the feasible region $G$ is defined by the constraints:"
   ]
  },
  {
   "cell_type": "markdown",
   "metadata": {},
   "source": [
    "$$\n",
    "\\begin{cases}\n",
    "x_1 + x_2 \\leqslant 1, \\\\\n",
    "2 x_1 - 2 x_2 \\leqslant 1,\\\\\n",
    "2 x_1 + 3 x_2 \\leqslant 2, \\\\\n",
    "3 x_1 + 2 x_2 \\leqslant 3,\n",
    "\\end{cases} \\\\\n",
    "x_1 \\geqslant 0, \\, x_2 \\geqslant 0.\n",
    "$$"
   ]
  },
  {
   "cell_type": "markdown",
   "metadata": {},
   "source": [
    "# Graphical Method"
   ]
  },
  {
   "cell_type": "markdown",
   "metadata": {},
   "source": [
    "Visualization of the feasible area and optimal solutions:"
   ]
  },
  {
   "attachments": {},
   "cell_type": "markdown",
   "metadata": {},
   "source": []
  },
  {
   "cell_type": "markdown",
   "metadata": {},
   "source": [
    "Only one point corresponds to the minimul optimal solution:\n",
    "$$ X_{\\min} = (0, \\frac{2}{3}), \\, F(X_{\\min}) = - \\frac{2}{3}.$$\n",
    "\n",
    "The maximum optimal solution is a set of infinite number of points:\n",
    "$$ \\{ X_{\\max} : \\frac{1}{2} \\leqslant x_1 \\leqslant \\frac{7}{10}, x_2 = x_1 - \\frac{1}{2}\\},$$\n",
    "and the objective function has the same value for each $X_{\\max}$:\n",
    "$$F(X_{\\max}) = \\frac{1}{2}.$$"
   ]
  },
  {
   "cell_type": "markdown",
   "metadata": {},
   "source": [
    "# Linear Optimization with Python"
   ]
  },
  {
   "cell_type": "markdown",
   "metadata": {},
   "source": [
    "See more details in the article: https://realpython.com/linear-programming-python/."
   ]
  },
  {
   "cell_type": "code",
   "execution_count": 6,
   "metadata": {},
   "outputs": [
    {
     "name": "stdout",
     "output_type": "stream",
     "text": [
      "Minimization of the objective function:\n",
      "      con: array([], dtype=float64)\n",
      "     fun: -0.6666666666666666\n",
      " message: 'Optimization terminated successfully.'\n",
      "     nit: 1\n",
      "   slack: array([0.33333333, 2.33333333, 0.        , 1.66666667])\n",
      "  status: 0\n",
      " success: True\n",
      "       x: array([0.        , 0.66666667])\n",
      "Maximization of the objective function:\n",
      "      con: array([], dtype=float64)\n",
      "     fun: -0.5\n",
      " message: 'Optimization terminated successfully.'\n",
      "     nit: 1\n",
      "   slack: array([0.5, 0. , 1. , 1.5])\n",
      "  status: 0\n",
      " success: True\n",
      "       x: array([0.5, 0. ])\n"
     ]
    }
   ],
   "source": [
    "from scipy.optimize import linprog\n",
    "\n",
    "# coeficients of the objective function\n",
    "obj = [1, -1]\n",
    "# left side coeficients of the inequity constraints\n",
    "lhs_ineq = [\n",
    "    [1, 1],\n",
    "    [2, -2],\n",
    "    [2, 3],\n",
    "    [3, 2]\n",
    "]\n",
    "# right sides of the inequity constraints\n",
    "rhs_ineq = [\n",
    "    1,\n",
    "    1,\n",
    "    2,\n",
    "    3\n",
    "]\n",
    "\n",
    "# minimize the objective function\n",
    "opt = linprog(c=obj, A_ub=lhs_ineq, b_ub=rhs_ineq, method=\"revised simplex\")\n",
    "print(\"Minimization of the objective function:\\n\", opt)\n",
    "\n",
    "# maximize the objective function\n",
    "nobj = [-1, 1] # the objective function multiplied by (-1)\n",
    "opt = linprog(c=nobj, A_ub=lhs_ineq, b_ub=rhs_ineq, method=\"revised simplex\")\n",
    "print(\"Maximization of the objective function:\\n\", opt)"
   ]
  }
 ],
 "metadata": {
  "kernelspec": {
   "display_name": "Python 3",
   "language": "python",
   "name": "python3"
  },
  "language_info": {
   "codemirror_mode": {
    "name": "ipython",
    "version": 3
   },
   "file_extension": ".py",
   "mimetype": "text/x-python",
   "name": "python",
   "nbconvert_exporter": "python",
   "pygments_lexer": "ipython3",
   "version": "3.8.5"
  }
 },
 "nbformat": 4,
 "nbformat_minor": 4
}
