{
 "cells": [
  {
   "cell_type": "markdown",
   "metadata": {},
   "source": [
    "Let's resolve the system of 2 linear equatioins:\n",
    "$$\n",
    "\\begin{cases}\n",
    "x_1 - x_2 = 1, \\\\\n",
    "-2 x_1 - x_2 = -6.\n",
    "\\end{cases}\n",
    "$$\n",
    "\n",
    "Let's express $x_1$ from $x_2$:\n",
    "$$\n",
    "\\begin{cases}\n",
    "x_1 = 1 + x_2, \\\\\n",
    "-2 x_1 - x_2 = -6.\n",
    "\\end{cases}\n",
    "$$\n",
    "\n",
    "Substitute $x_1$ in the 2nd equation:\n",
    "$$\n",
    "\\begin{cases}\n",
    "x_1 = 1 + x_2, \\\\\n",
    "-2 (1 + x_2 ) - x_2 = -6;\n",
    "\\end{cases}\n",
    "$$\n",
    "\n",
    "$$\n",
    "\\begin{cases}\n",
    "x_1 = 1 + x_2, \\\\\n",
    "-2 -2 x_2 - x_2 = -6;\n",
    "\\end{cases}\n",
    "$$\n",
    "\n",
    "$$\n",
    "\\begin{cases}\n",
    "x_1 = 1 + x_2, \\\\\n",
    "-3 x_2 = -4;\n",
    "\\end{cases}\n",
    "$$\n",
    "\n",
    "$$\n",
    "\\begin{cases}\n",
    "x_1 = 1 + x_2, \\\\\n",
    "x_2 = \\frac{4}{3};\n",
    "\\end{cases}\n",
    "$$\n",
    "\n",
    "$$\n",
    "\\begin{cases}\n",
    "x_1 = 1 + \\frac{4}{3}, \\\\\n",
    "x_2 = \\frac{4}{3};\n",
    "\\end{cases}\n",
    "$$\n",
    "\n",
    "$$\n",
    "\\begin{cases}\n",
    "x_1 = \\frac{7}{3}, \\\\\n",
    "x_2 = \\frac{4}{3};\n",
    "\\end{cases}\n",
    "$$\n",
    "\n",
    "$$\n",
    "\\begin{cases}\n",
    "x_1 = \\frac{7}{3} \\approx 2.3333333, \\\\\n",
    "x_2 = \\frac{4}{3} \\approx 1.3333333;\n",
    "\\end{cases}\n",
    "$$"
   ]
  },
  {
   "cell_type": "markdown",
   "metadata": {},
   "source": [
    "Value of the objective function:\n",
    "$$\n",
    "F(\\frac{7}{3}, \\frac{4}{3}) = \\frac{7}{3} + 2 \\cdot \\frac{4}{3} = \\frac{15}{3} = 5.\n",
    "$$"
   ]
  },
  {
   "cell_type": "markdown",
   "metadata": {},
   "source": [
    "$$\n",
    "x_1 = 3, x_2 = \\frac{7}{2} \\\\\n",
    "F(3, \\frac{7}{2}) = 3 + 2 \\cdot \\frac{7}{2} = 10\n",
    "$$\n",
    "\n",
    "\n",
    "$$\n",
    "(4, 0), (0, 2)\n",
    "$$"
   ]
  },
  {
   "cell_type": "code",
   "execution_count": null,
   "metadata": {},
   "outputs": [],
   "source": []
  }
 ],
 "metadata": {
  "kernelspec": {
   "display_name": "Python 3",
   "language": "python",
   "name": "python3"
  },
  "language_info": {
   "codemirror_mode": {
    "name": "ipython",
    "version": 3
   },
   "file_extension": ".py",
   "mimetype": "text/x-python",
   "name": "python",
   "nbconvert_exporter": "python",
   "pygments_lexer": "ipython3",
   "version": "3.8.5"
  }
 },
 "nbformat": 4,
 "nbformat_minor": 4
}
